{
 "cells": [
  {
   "cell_type": "code",
   "execution_count": 1,
   "id": "0182d3b0",
   "metadata": {},
   "outputs": [
    {
     "name": "stderr",
     "output_type": "stream",
     "text": [
      "C:\\Users\\43460\\AppData\\Roaming\\Python\\Python310\\site-packages\\tqdm\\auto.py:21: TqdmWarning: IProgress not found. Please update jupyter and ipywidgets. See https://ipywidgets.readthedocs.io/en/stable/user_install.html\n",
      "  from .autonotebook import tqdm as notebook_tqdm\n"
     ]
    }
   ],
   "source": [
    "import torch\n",
    "from torch import nn\n",
    "from torch.utils.data import Dataset, DataLoader\n",
    "from transformers import AutoTokenizer, AutoModel\n",
    "import json\n",
    "import numpy as np\n",
    "from sklearn.metrics import f1_score\n",
    "from tqdm import tqdm\n",
    "import os"
   ]
  },
  {
   "cell_type": "code",
   "execution_count": 2,
   "id": "09ed2b7b",
   "metadata": {},
   "outputs": [],
   "source": [
    "def load_jsonl(path):\n",
    "    with open(path, \"r\", encoding=\"utf-8\") as f:\n",
    "        return [json.loads(line.strip()) for line in f]\n",
    "\n",
    "train_data = load_jsonl(\"train_data.jsonl\")\n",
    "val_data = load_jsonl(\"val_data.jsonl\")\n",
    "\n",
    "all_tags = sorted(list({tag for d in train_data + val_data for tag in d[\"label_tags\"]}))\n",
    "tag2id = {tag: i for i, tag in enumerate(all_tags)}\n",
    "id2tag = {i: tag for tag, i in tag2id.items()}"
   ]
  },
  {
   "cell_type": "code",
   "execution_count": 3,
   "id": "0410e47c",
   "metadata": {},
   "outputs": [],
   "source": [
    "class PromptDataset(Dataset):\n",
    "    def __init__(self, data, tokenizer, tag2id):\n",
    "        self.inputs = []\n",
    "        self.labels = []\n",
    "        for d in data:\n",
    "            text = \", \".join(d[\"context_tags\"]) + \" [SEP] \" + d[\"target_character\"]\n",
    "            self.inputs.append(text)\n",
    "            label_vec = [0] * len(tag2id)\n",
    "            for tag in d[\"label_tags\"]:\n",
    "                if tag in tag2id:\n",
    "                    label_vec[tag2id[tag]] = 1\n",
    "            self.labels.append(label_vec)\n",
    "        self.tokenizer = tokenizer\n",
    "\n",
    "    def __len__(self):\n",
    "        return len(self.inputs)\n",
    "\n",
    "    def __getitem__(self, idx):\n",
    "        encoded = self.tokenizer(\n",
    "            self.inputs[idx],\n",
    "            truncation=True,\n",
    "            padding=\"max_length\",\n",
    "            max_length=64,\n",
    "            return_tensors=\"pt\"\n",
    "        )\n",
    "        return {\n",
    "            \"input_ids\": encoded[\"input_ids\"].squeeze(),\n",
    "            \"attention_mask\": encoded[\"attention_mask\"].squeeze(),\n",
    "            \"labels\": torch.tensor(self.labels[idx], dtype=torch.float32)\n",
    "        }"
   ]
  },
  {
   "cell_type": "code",
   "execution_count": 5,
   "id": "c9c80cf2",
   "metadata": {},
   "outputs": [],
   "source": [
    "class BERTTagRecommender(nn.Module):\n",
    "    def __init__(self, model_name, output_dim):\n",
    "        super().__init__()\n",
    "        self.encoder = AutoModel.from_pretrained(model_name)\n",
    "        self.classifier = nn.Sequential(\n",
    "            nn.Linear(self.encoder.config.hidden_size, 512),\n",
    "            nn.ReLU(),\n",
    "            nn.Linear(512, output_dim)\n",
    "        )\n",
    "\n",
    "    def forward(self, input_ids, attention_mask):\n",
    "        outputs = self.encoder(input_ids=input_ids, attention_mask=attention_mask)\n",
    "        return self.classifier(outputs.pooler_output)"
   ]
  },
  {
   "cell_type": "code",
   "execution_count": null,
   "id": "d753328f",
   "metadata": {},
   "outputs": [],
   "source": [
    "def train_model(train_data, val_data, tag2id, num_epochs=50, resume=False):\n",
    "    model_name = \"sentence-transformers/all-MiniLM-L6-v2\"\n",
    "    tokenizer = AutoTokenizer.from_pretrained(model_name)\n",
    "    train_ds = PromptDataset(train_data, tokenizer, tag2id)\n",
    "    val_ds = PromptDataset(val_data, tokenizer, tag2id)\n",
    "    train_loader = DataLoader(train_ds, batch_size=16, shuffle=True)\n",
    "    val_loader = DataLoader(val_ds, batch_size=32)\n",
    "\n",
    "    model = BERTTagRecommender(model_name, len(tag2id))\n",
    "    device = torch.device(\"cuda\" if torch.cuda.is_available() else \"cpu\")\n",
    "    model.to(device)\n",
    "\n",
    "    optimizer = torch.optim.AdamW(model.parameters(), lr=2e-5)\n",
    "    criterion = nn.BCEWithLogitsLoss()\n",
    "\n",
    "    start_epoch = 0\n",
    "    model_file = \"checkpoint_model.pt\"\n",
    "    optim_file = \"checkpoint_optim.pt\"\n",
    "\n",
    "    if resume and os.path.exists(model_file):\n",
    "        model.load_state_dict(torch.load(model_file))\n",
    "        optimizer.load_state_dict(torch.load(optim_file))\n",
    "        print(\"✅ 已加载上次保存的模型与优化器状态。\")\n",
    "\n",
    "    for epoch in range(start_epoch, num_epochs):\n",
    "        model.train()\n",
    "        total_loss = 0\n",
    "        progress_bar = tqdm(train_loader, desc=f\"Epoch {epoch+1}\")\n",
    "        for batch in progress_bar:\n",
    "            input_ids = batch[\"input_ids\"].to(device)\n",
    "            attention_mask = batch[\"attention_mask\"].to(device)\n",
    "            labels = batch[\"labels\"].to(device)\n",
    "\n",
    "            optimizer.zero_grad()\n",
    "            logits = model(input_ids, attention_mask)\n",
    "            loss = criterion(logits, labels)\n",
    "            loss.backward()\n",
    "            optimizer.step()\n",
    "            total_loss += loss.item()\n",
    "            progress_bar.set_postfix(loss=loss.item())\n",
    "\n",
    "        model.eval()\n",
    "        all_preds, all_labels = [], []\n",
    "        with torch.no_grad():\n",
    "            for batch in val_loader:\n",
    "                input_ids = batch[\"input_ids\"].to(device)\n",
    "                attention_mask = batch[\"attention_mask\"].to(device)\n",
    "                labels = batch[\"labels\"].cpu().numpy()\n",
    "                logits = model(input_ids, attention_mask)\n",
    "                probs = torch.sigmoid(logits).cpu().numpy()\n",
    "                preds = (probs > 0.5).astype(int)\n",
    "                all_preds.append(preds)\n",
    "                all_labels.append(labels)\n",
    "\n",
    "        all_preds = np.vstack(all_preds)\n",
    "        all_labels = np.vstack(all_labels)\n",
    "        micro_f1 = f1_score(all_labels, all_preds, average=\"micro\", zero_division=0)\n",
    "        macro_f1 = f1_score(all_labels, all_preds, average=\"macro\", zero_division=0)\n",
    "        print(f\"✅ Epoch {epoch+1} | Loss: {total_loss:.4f} | Micro-F1: {micro_f1:.4f} | Macro-F1: {macro_f1:.4f}\")\n",
    "\n",
    "        torch.save(model.state_dict(), model_file)\n",
    "        torch.save(optimizer.state_dict(), optim_file)\n",
    "        print(\"✅ 模型已保存：checkpoint_model.pt\")\n",
    "\n",
    "    return model, tokenizer"
   ]
  },
  {
   "cell_type": "code",
   "execution_count": null,
   "id": "f069699e",
   "metadata": {},
   "outputs": [
    {
     "name": "stderr",
     "output_type": "stream",
     "text": [
      "Epoch 1: 100%|██████████| 1931/1931 [00:26<00:00, 73.74it/s, loss=0.0731]\n"
     ]
    },
    {
     "name": "stdout",
     "output_type": "stream",
     "text": [
      "✅ Epoch 1 | Loss: 213.5485 | Micro-F1: 0.0000 | Macro-F1: 0.0000\n",
      "✅ 模型已保存：checkpoint_model.pt\n"
     ]
    },
    {
     "name": "stderr",
     "output_type": "stream",
     "text": [
      "Epoch 2: 100%|██████████| 1931/1931 [00:26<00:00, 73.81it/s, loss=0.0751]\n"
     ]
    },
    {
     "name": "stdout",
     "output_type": "stream",
     "text": [
      "✅ Epoch 2 | Loss: 143.7601 | Micro-F1: 0.0000 | Macro-F1: 0.0000\n",
      "✅ 模型已保存：checkpoint_model.pt\n"
     ]
    },
    {
     "name": "stderr",
     "output_type": "stream",
     "text": [
      "Epoch 3: 100%|██████████| 1931/1931 [00:25<00:00, 74.75it/s, loss=0.0708]\n"
     ]
    },
    {
     "name": "stdout",
     "output_type": "stream",
     "text": [
      "✅ Epoch 3 | Loss: 140.0060 | Micro-F1: 0.0003 | Macro-F1: 0.0000\n",
      "✅ 模型已保存：checkpoint_model.pt\n"
     ]
    },
    {
     "name": "stderr",
     "output_type": "stream",
     "text": [
      "Epoch 4: 100%|██████████| 1931/1931 [00:25<00:00, 75.24it/s, loss=0.0705]\n"
     ]
    },
    {
     "name": "stdout",
     "output_type": "stream",
     "text": [
      "✅ Epoch 4 | Loss: 131.7316 | Micro-F1: 0.0322 | Macro-F1: 0.0015\n",
      "✅ 模型已保存：checkpoint_model.pt\n"
     ]
    },
    {
     "name": "stderr",
     "output_type": "stream",
     "text": [
      "Epoch 5: 100%|██████████| 1931/1931 [00:25<00:00, 75.39it/s, loss=0.0545]\n"
     ]
    },
    {
     "name": "stdout",
     "output_type": "stream",
     "text": [
      "✅ Epoch 5 | Loss: 120.8631 | Micro-F1: 0.0941 | Macro-F1: 0.0073\n",
      "✅ 模型已保存：checkpoint_model.pt\n"
     ]
    },
    {
     "name": "stderr",
     "output_type": "stream",
     "text": [
      "Epoch 6: 100%|██████████| 1931/1931 [00:25<00:00, 75.10it/s, loss=0.0456]\n"
     ]
    },
    {
     "name": "stdout",
     "output_type": "stream",
     "text": [
      "✅ Epoch 6 | Loss: 100.0581 | Micro-F1: 0.1742 | Macro-F1: 0.0292\n",
      "✅ 模型已保存：checkpoint_model.pt\n"
     ]
    },
    {
     "name": "stderr",
     "output_type": "stream",
     "text": [
      "Epoch 7: 100%|██████████| 1931/1931 [00:25<00:00, 74.40it/s, loss=0.039] \n"
     ]
    },
    {
     "name": "stdout",
     "output_type": "stream",
     "text": [
      "✅ Epoch 7 | Loss: 82.3788 | Micro-F1: 0.3733 | Macro-F1: 0.2843\n",
      "✅ 模型已保存：checkpoint_model.pt\n"
     ]
    },
    {
     "name": "stderr",
     "output_type": "stream",
     "text": [
      "Epoch 8: 100%|██████████| 1931/1931 [00:25<00:00, 74.78it/s, loss=0.0439]\n"
     ]
    },
    {
     "name": "stdout",
     "output_type": "stream",
     "text": [
      "✅ Epoch 8 | Loss: 67.0728 | Micro-F1: 0.6032 | Macro-F1: 0.7193\n",
      "✅ 模型已保存：checkpoint_model.pt\n"
     ]
    },
    {
     "name": "stderr",
     "output_type": "stream",
     "text": [
      "Epoch 9: 100%|██████████| 1931/1931 [00:25<00:00, 74.61it/s, loss=0.0169]\n"
     ]
    },
    {
     "name": "stdout",
     "output_type": "stream",
     "text": [
      "✅ Epoch 9 | Loss: 54.8396 | Micro-F1: 0.7307 | Macro-F1: 0.8606\n",
      "✅ 模型已保存：checkpoint_model.pt\n"
     ]
    },
    {
     "name": "stderr",
     "output_type": "stream",
     "text": [
      "Epoch 10: 100%|██████████| 1931/1931 [00:25<00:00, 75.05it/s, loss=0.0151]\n"
     ]
    },
    {
     "name": "stdout",
     "output_type": "stream",
     "text": [
      "✅ Epoch 10 | Loss: 45.9179 | Micro-F1: 0.7998 | Macro-F1: 0.9030\n",
      "✅ 模型已保存：checkpoint_model.pt\n"
     ]
    },
    {
     "name": "stderr",
     "output_type": "stream",
     "text": [
      "Epoch 11: 100%|██████████| 1931/1931 [00:25<00:00, 75.43it/s, loss=0.0202]\n"
     ]
    },
    {
     "name": "stdout",
     "output_type": "stream",
     "text": [
      "✅ Epoch 11 | Loss: 39.5459 | Micro-F1: 0.8359 | Macro-F1: 0.9181\n",
      "✅ 模型已保存：checkpoint_model.pt\n"
     ]
    },
    {
     "name": "stderr",
     "output_type": "stream",
     "text": [
      "Epoch 12: 100%|██████████| 1931/1931 [00:25<00:00, 75.32it/s, loss=0.0275] \n"
     ]
    },
    {
     "name": "stdout",
     "output_type": "stream",
     "text": [
      "✅ Epoch 12 | Loss: 34.9753 | Micro-F1: 0.8639 | Macro-F1: 0.9252\n",
      "✅ 模型已保存：checkpoint_model.pt\n"
     ]
    },
    {
     "name": "stderr",
     "output_type": "stream",
     "text": [
      "Epoch 13: 100%|██████████| 1931/1931 [00:25<00:00, 75.04it/s, loss=0.0159] \n"
     ]
    },
    {
     "name": "stdout",
     "output_type": "stream",
     "text": [
      "✅ Epoch 13 | Loss: 31.5951 | Micro-F1: 0.8801 | Macro-F1: 0.9277\n",
      "✅ 模型已保存：checkpoint_model.pt\n"
     ]
    },
    {
     "name": "stderr",
     "output_type": "stream",
     "text": [
      "Epoch 14: 100%|██████████| 1931/1931 [00:25<00:00, 74.98it/s, loss=0.0175] \n"
     ]
    },
    {
     "name": "stdout",
     "output_type": "stream",
     "text": [
      "✅ Epoch 14 | Loss: 29.1183 | Micro-F1: 0.8911 | Macro-F1: 0.9295\n",
      "✅ 模型已保存：checkpoint_model.pt\n"
     ]
    },
    {
     "name": "stderr",
     "output_type": "stream",
     "text": [
      "Epoch 15: 100%|██████████| 1931/1931 [00:25<00:00, 75.29it/s, loss=0.00948]\n"
     ]
    },
    {
     "name": "stdout",
     "output_type": "stream",
     "text": [
      "✅ Epoch 15 | Loss: 27.1900 | Micro-F1: 0.8992 | Macro-F1: 0.9304\n",
      "✅ 模型已保存：checkpoint_model.pt\n"
     ]
    },
    {
     "name": "stderr",
     "output_type": "stream",
     "text": [
      "Epoch 16: 100%|██████████| 1931/1931 [00:25<00:00, 75.18it/s, loss=0.00526]\n"
     ]
    },
    {
     "name": "stdout",
     "output_type": "stream",
     "text": [
      "✅ Epoch 16 | Loss: 25.6163 | Micro-F1: 0.9054 | Macro-F1: 0.9305\n",
      "✅ 模型已保存：checkpoint_model.pt\n"
     ]
    },
    {
     "name": "stderr",
     "output_type": "stream",
     "text": [
      "Epoch 17: 100%|██████████| 1931/1931 [00:25<00:00, 75.59it/s, loss=0.0156] \n"
     ]
    },
    {
     "name": "stdout",
     "output_type": "stream",
     "text": [
      "✅ Epoch 17 | Loss: 24.3403 | Micro-F1: 0.9097 | Macro-F1: 0.9314\n",
      "✅ 模型已保存：checkpoint_model.pt\n"
     ]
    },
    {
     "name": "stderr",
     "output_type": "stream",
     "text": [
      "Epoch 18: 100%|██████████| 1931/1931 [00:25<00:00, 76.51it/s, loss=0.0131] \n"
     ]
    },
    {
     "name": "stdout",
     "output_type": "stream",
     "text": [
      "✅ Epoch 18 | Loss: 23.2832 | Micro-F1: 0.9139 | Macro-F1: 0.9319\n",
      "✅ 模型已保存：checkpoint_model.pt\n"
     ]
    },
    {
     "name": "stderr",
     "output_type": "stream",
     "text": [
      "Epoch 19: 100%|██████████| 1931/1931 [00:25<00:00, 74.78it/s, loss=0.0127] \n"
     ]
    },
    {
     "name": "stdout",
     "output_type": "stream",
     "text": [
      "✅ Epoch 19 | Loss: 22.3899 | Micro-F1: 0.9160 | Macro-F1: 0.9321\n",
      "✅ 模型已保存：checkpoint_model.pt\n"
     ]
    },
    {
     "name": "stderr",
     "output_type": "stream",
     "text": [
      "Epoch 20: 100%|██████████| 1931/1931 [00:25<00:00, 74.99it/s, loss=0.0115] \n"
     ]
    },
    {
     "name": "stdout",
     "output_type": "stream",
     "text": [
      "✅ Epoch 20 | Loss: 21.6269 | Micro-F1: 0.9184 | Macro-F1: 0.9320\n",
      "✅ 模型已保存：checkpoint_model.pt\n"
     ]
    },
    {
     "name": "stderr",
     "output_type": "stream",
     "text": [
      "Epoch 21: 100%|██████████| 1931/1931 [00:25<00:00, 75.31it/s, loss=0.012]  \n"
     ]
    },
    {
     "name": "stdout",
     "output_type": "stream",
     "text": [
      "✅ Epoch 21 | Loss: 21.0044 | Micro-F1: 0.9205 | Macro-F1: 0.9324\n",
      "✅ 模型已保存：checkpoint_model.pt\n"
     ]
    },
    {
     "name": "stderr",
     "output_type": "stream",
     "text": [
      "Epoch 22: 100%|██████████| 1931/1931 [00:25<00:00, 74.97it/s, loss=0.00337]\n"
     ]
    },
    {
     "name": "stdout",
     "output_type": "stream",
     "text": [
      "✅ Epoch 22 | Loss: 20.4378 | Micro-F1: 0.9212 | Macro-F1: 0.9323\n",
      "✅ 模型已保存：checkpoint_model.pt\n"
     ]
    },
    {
     "name": "stderr",
     "output_type": "stream",
     "text": [
      "Epoch 23: 100%|██████████| 1931/1931 [00:25<00:00, 75.19it/s, loss=0.00205]\n"
     ]
    },
    {
     "name": "stdout",
     "output_type": "stream",
     "text": [
      "✅ Epoch 23 | Loss: 19.9769 | Micro-F1: 0.9230 | Macro-F1: 0.9328\n",
      "✅ 模型已保存：checkpoint_model.pt\n"
     ]
    },
    {
     "name": "stderr",
     "output_type": "stream",
     "text": [
      "Epoch 24: 100%|██████████| 1931/1931 [00:25<00:00, 76.15it/s, loss=0.0171] \n"
     ]
    },
    {
     "name": "stdout",
     "output_type": "stream",
     "text": [
      "✅ Epoch 24 | Loss: 19.5475 | Micro-F1: 0.9242 | Macro-F1: 0.9328\n",
      "✅ 模型已保存：checkpoint_model.pt\n"
     ]
    },
    {
     "name": "stderr",
     "output_type": "stream",
     "text": [
      "Epoch 25: 100%|██████████| 1931/1931 [00:25<00:00, 75.91it/s, loss=0.0123] \n"
     ]
    },
    {
     "name": "stdout",
     "output_type": "stream",
     "text": [
      "✅ Epoch 25 | Loss: 19.1805 | Micro-F1: 0.9249 | Macro-F1: 0.9325\n",
      "✅ 模型已保存：checkpoint_model.pt\n"
     ]
    },
    {
     "name": "stderr",
     "output_type": "stream",
     "text": [
      "Epoch 26: 100%|██████████| 1931/1931 [00:25<00:00, 75.68it/s, loss=0.00661]\n"
     ]
    },
    {
     "name": "stdout",
     "output_type": "stream",
     "text": [
      "✅ Epoch 26 | Loss: 18.8407 | Micro-F1: 0.9257 | Macro-F1: 0.9326\n",
      "✅ 模型已保存：checkpoint_model.pt\n"
     ]
    },
    {
     "name": "stderr",
     "output_type": "stream",
     "text": [
      "Epoch 27: 100%|██████████| 1931/1931 [00:26<00:00, 72.66it/s, loss=0.00926]\n"
     ]
    },
    {
     "name": "stdout",
     "output_type": "stream",
     "text": [
      "✅ Epoch 27 | Loss: 18.5574 | Micro-F1: 0.9265 | Macro-F1: 0.9325\n",
      "✅ 模型已保存：checkpoint_model.pt\n"
     ]
    },
    {
     "name": "stderr",
     "output_type": "stream",
     "text": [
      "Epoch 28: 100%|██████████| 1931/1931 [00:26<00:00, 72.50it/s, loss=0.00946] \n"
     ]
    },
    {
     "name": "stdout",
     "output_type": "stream",
     "text": [
      "✅ Epoch 28 | Loss: 18.2824 | Micro-F1: 0.9275 | Macro-F1: 0.9329\n",
      "✅ 模型已保存：checkpoint_model.pt\n"
     ]
    },
    {
     "name": "stderr",
     "output_type": "stream",
     "text": [
      "Epoch 29: 100%|██████████| 1931/1931 [00:26<00:00, 74.23it/s, loss=0.00172] \n"
     ]
    },
    {
     "name": "stdout",
     "output_type": "stream",
     "text": [
      "✅ Epoch 29 | Loss: 18.0547 | Micro-F1: 0.9279 | Macro-F1: 0.9326\n",
      "✅ 模型已保存：checkpoint_model.pt\n"
     ]
    },
    {
     "name": "stderr",
     "output_type": "stream",
     "text": [
      "Epoch 30: 100%|██████████| 1931/1931 [00:26<00:00, 72.58it/s, loss=0.00112] \n"
     ]
    },
    {
     "name": "stdout",
     "output_type": "stream",
     "text": [
      "✅ Epoch 30 | Loss: 17.8195 | Micro-F1: 0.9286 | Macro-F1: 0.9327\n",
      "✅ 模型已保存：checkpoint_model.pt\n"
     ]
    }
   ],
   "source": [
    "trained_model, trained_tokenizer = train_model(\n",
    "    train_data, val_data, tag2id,\n",
    "    num_epochs=30,\n",
    "    resume=True  \n",
    ")"
   ]
  }
 ],
 "metadata": {
  "kernelspec": {
   "display_name": "Python 3",
   "language": "python",
   "name": "python3"
  },
  "language_info": {
   "codemirror_mode": {
    "name": "ipython",
    "version": 3
   },
   "file_extension": ".py",
   "mimetype": "text/x-python",
   "name": "python",
   "nbconvert_exporter": "python",
   "pygments_lexer": "ipython3",
   "version": "3.10.9"
  }
 },
 "nbformat": 4,
 "nbformat_minor": 5
}
